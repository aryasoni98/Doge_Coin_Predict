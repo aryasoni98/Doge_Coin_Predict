{
  "nbformat": 4,
  "nbformat_minor": 0,
  "metadata": {
    "colab": {
      "name": "Doge_Coin_Predict.ipynb",
      "provenance": [],
      "authorship_tag": "ABX9TyNwD7oGIcvmwL7PRdMf5kvR",
      "include_colab_link": true
    },
    "kernelspec": {
      "name": "python3",
      "display_name": "Python 3"
    },
    "language_info": {
      "name": "python"
    }
  },
  "cells": [
    {
      "cell_type": "markdown",
      "metadata": {
        "id": "view-in-github",
        "colab_type": "text"
      },
      "source": [
        "<a href=\"https://colab.research.google.com/github/aryasoni98/Doge_Coin_Predict/blob/master/Doge_Coin_Predict.ipynb\" target=\"_parent\"><img src=\"https://colab.research.google.com/assets/colab-badge.svg\" alt=\"Open In Colab\"/></a>"
      ]
    },
    {
      "cell_type": "markdown",
      "metadata": {
        "id": "vULPNVrwumom"
      },
      "source": [
        "#INSTALL THESE PACKAGES IF NEEDED"
      ]
    },
    {
      "cell_type": "code",
      "metadata": {
        "colab": {
          "base_uri": "https://localhost:8080/"
        },
        "id": "6Dliz1_buaOT",
        "outputId": "c5917282-5d05-4c65-9654-cf6cf8b16a12"
      },
      "source": [
        "!pip install yfinance\n",
        "!pip install yahoofinancials"
      ],
      "execution_count": 1,
      "outputs": [
        {
          "output_type": "stream",
          "text": [
            "Collecting yfinance\n",
            "  Downloading https://files.pythonhosted.org/packages/79/bd/d64719da8f5367f4d8b16e83507fa1d90942f433f748a4cf3ed7aa515d14/yfinance-0.1.63.tar.gz\n",
            "Requirement already satisfied: pandas>=0.24 in /usr/local/lib/python3.7/dist-packages (from yfinance) (1.1.5)\n",
            "Requirement already satisfied: numpy>=1.15 in /usr/local/lib/python3.7/dist-packages (from yfinance) (1.19.5)\n",
            "Requirement already satisfied: requests>=2.20 in /usr/local/lib/python3.7/dist-packages (from yfinance) (2.23.0)\n",
            "Requirement already satisfied: multitasking>=0.0.7 in /usr/local/lib/python3.7/dist-packages (from yfinance) (0.0.9)\n",
            "Collecting lxml>=4.5.1\n",
            "\u001b[?25l  Downloading https://files.pythonhosted.org/packages/30/c0/d0526314971fc661b083ab135747dc68446a3022686da8c16d25fcf6ef07/lxml-4.6.3-cp37-cp37m-manylinux2014_x86_64.whl (6.3MB)\n",
            "\u001b[K     |████████████████████████████████| 6.3MB 4.1MB/s \n",
            "\u001b[?25hRequirement already satisfied: python-dateutil>=2.7.3 in /usr/local/lib/python3.7/dist-packages (from pandas>=0.24->yfinance) (2.8.1)\n",
            "Requirement already satisfied: pytz>=2017.2 in /usr/local/lib/python3.7/dist-packages (from pandas>=0.24->yfinance) (2018.9)\n",
            "Requirement already satisfied: chardet<4,>=3.0.2 in /usr/local/lib/python3.7/dist-packages (from requests>=2.20->yfinance) (3.0.4)\n",
            "Requirement already satisfied: certifi>=2017.4.17 in /usr/local/lib/python3.7/dist-packages (from requests>=2.20->yfinance) (2021.5.30)\n",
            "Requirement already satisfied: idna<3,>=2.5 in /usr/local/lib/python3.7/dist-packages (from requests>=2.20->yfinance) (2.10)\n",
            "Requirement already satisfied: urllib3!=1.25.0,!=1.25.1,<1.26,>=1.21.1 in /usr/local/lib/python3.7/dist-packages (from requests>=2.20->yfinance) (1.24.3)\n",
            "Requirement already satisfied: six>=1.5 in /usr/local/lib/python3.7/dist-packages (from python-dateutil>=2.7.3->pandas>=0.24->yfinance) (1.15.0)\n",
            "Building wheels for collected packages: yfinance\n",
            "  Building wheel for yfinance (setup.py) ... \u001b[?25l\u001b[?25hdone\n",
            "  Created wheel for yfinance: filename=yfinance-0.1.63-py2.py3-none-any.whl size=23919 sha256=0e824683cda83f5db1b36268f1b060ac56596f6ed022ffc30cee24918cc7f69f\n",
            "  Stored in directory: /root/.cache/pip/wheels/fe/a0/79/b73d4a0c535b421b88fc7b393936b371fabbfeaf979eca4050\n",
            "Successfully built yfinance\n",
            "Installing collected packages: lxml, yfinance\n",
            "  Found existing installation: lxml 4.2.6\n",
            "    Uninstalling lxml-4.2.6:\n",
            "      Successfully uninstalled lxml-4.2.6\n",
            "Successfully installed lxml-4.6.3 yfinance-0.1.63\n",
            "Collecting yahoofinancials\n",
            "  Downloading https://files.pythonhosted.org/packages/97/fe/be0f6ea704137848779fc61e7d1c9a901489aaf3423cd7b6f86a350c14c6/yahoofinancials-1.6.tar.gz\n",
            "Requirement already satisfied: beautifulsoup4 in /usr/local/lib/python3.7/dist-packages (from yahoofinancials) (4.6.3)\n",
            "Requirement already satisfied: pytz in /usr/local/lib/python3.7/dist-packages (from yahoofinancials) (2018.9)\n",
            "Building wheels for collected packages: yahoofinancials\n",
            "  Building wheel for yahoofinancials (setup.py) ... \u001b[?25l\u001b[?25hdone\n",
            "  Created wheel for yahoofinancials: filename=yahoofinancials-1.6-cp37-none-any.whl size=15192 sha256=b793d9617a106ee4735cdf93823089f314f16abebfc927977dc7ea1858e0c51d\n",
            "  Stored in directory: /root/.cache/pip/wheels/d9/7e/cf/4977a8572d5247242a4b13018d1d36923024ba84236e0d28bc\n",
            "Successfully built yahoofinancials\n",
            "Installing collected packages: yahoofinancials\n",
            "Successfully installed yahoofinancials-1.6\n"
          ],
          "name": "stdout"
        }
      ]
    },
    {
      "cell_type": "code",
      "metadata": {
        "id": "4BsPA3hGurwL"
      },
      "source": [
        "import numpy as np\n",
        "import pandas as pd\n",
        "import matplotlib.pyplot as plt\n",
        "from sklearn.metrics import mean_absolute_error as mae\n",
        "from sklearn.preprocessing import StandardScaler\n",
        "import yfinance as yf\n",
        "from yahoofinancials import YahooFinancials"
      ],
      "execution_count": 2,
      "outputs": []
    },
    {
      "cell_type": "markdown",
      "metadata": {
        "id": "RrxZ48fDvOhp"
      },
      "source": [
        "#CREATING THE DATAFRAME TO STORE DATA\n"
      ]
    },
    {
      "cell_type": "code",
      "metadata": {
        "colab": {
          "base_uri": "https://localhost:8080/",
          "height": 235
        },
        "id": "iHEL_aFmvLV7",
        "outputId": "1e53fddf-d666-4817-99d3-298aa5e04ad9"
      },
      "source": [
        "df = yf.download('ETH-USD', \n",
        "                      start='2021-01-01', \n",
        "                      end='2021-06-01', \n",
        "                      progress=False)\n",
        "df.head()"
      ],
      "execution_count": 18,
      "outputs": [
        {
          "output_type": "execute_result",
          "data": {
            "text/html": [
              "<div>\n",
              "<style scoped>\n",
              "    .dataframe tbody tr th:only-of-type {\n",
              "        vertical-align: middle;\n",
              "    }\n",
              "\n",
              "    .dataframe tbody tr th {\n",
              "        vertical-align: top;\n",
              "    }\n",
              "\n",
              "    .dataframe thead th {\n",
              "        text-align: right;\n",
              "    }\n",
              "</style>\n",
              "<table border=\"1\" class=\"dataframe\">\n",
              "  <thead>\n",
              "    <tr style=\"text-align: right;\">\n",
              "      <th></th>\n",
              "      <th>Open</th>\n",
              "      <th>High</th>\n",
              "      <th>Low</th>\n",
              "      <th>Close</th>\n",
              "      <th>Adj Close</th>\n",
              "      <th>Volume</th>\n",
              "    </tr>\n",
              "    <tr>\n",
              "      <th>Date</th>\n",
              "      <th></th>\n",
              "      <th></th>\n",
              "      <th></th>\n",
              "      <th></th>\n",
              "      <th></th>\n",
              "      <th></th>\n",
              "    </tr>\n",
              "  </thead>\n",
              "  <tbody>\n",
              "    <tr>\n",
              "      <th>2021-01-01</th>\n",
              "      <td>737.708374</td>\n",
              "      <td>749.201843</td>\n",
              "      <td>719.792236</td>\n",
              "      <td>730.367554</td>\n",
              "      <td>730.367554</td>\n",
              "      <td>13652004358</td>\n",
              "    </tr>\n",
              "    <tr>\n",
              "      <th>2021-01-02</th>\n",
              "      <td>730.402649</td>\n",
              "      <td>786.798462</td>\n",
              "      <td>718.109497</td>\n",
              "      <td>774.534973</td>\n",
              "      <td>774.534973</td>\n",
              "      <td>19740771179</td>\n",
              "    </tr>\n",
              "    <tr>\n",
              "      <th>2021-01-03</th>\n",
              "      <td>774.511841</td>\n",
              "      <td>1006.565002</td>\n",
              "      <td>771.561646</td>\n",
              "      <td>975.507690</td>\n",
              "      <td>975.507690</td>\n",
              "      <td>45200463368</td>\n",
              "    </tr>\n",
              "    <tr>\n",
              "      <th>2021-01-04</th>\n",
              "      <td>977.058838</td>\n",
              "      <td>1153.189209</td>\n",
              "      <td>912.305359</td>\n",
              "      <td>1040.233032</td>\n",
              "      <td>1040.233032</td>\n",
              "      <td>56945985763</td>\n",
              "    </tr>\n",
              "    <tr>\n",
              "      <th>2021-01-05</th>\n",
              "      <td>1041.498779</td>\n",
              "      <td>1129.371460</td>\n",
              "      <td>986.811279</td>\n",
              "      <td>1100.006104</td>\n",
              "      <td>1100.006104</td>\n",
              "      <td>41535932781</td>\n",
              "    </tr>\n",
              "  </tbody>\n",
              "</table>\n",
              "</div>"
            ],
            "text/plain": [
              "                   Open         High  ...    Adj Close       Volume\n",
              "Date                                  ...                          \n",
              "2021-01-01   737.708374   749.201843  ...   730.367554  13652004358\n",
              "2021-01-02   730.402649   786.798462  ...   774.534973  19740771179\n",
              "2021-01-03   774.511841  1006.565002  ...   975.507690  45200463368\n",
              "2021-01-04   977.058838  1153.189209  ...  1040.233032  56945985763\n",
              "2021-01-05  1041.498779  1129.371460  ...  1100.006104  41535932781\n",
              "\n",
              "[5 rows x 6 columns]"
            ]
          },
          "metadata": {
            "tags": []
          },
          "execution_count": 18
        }
      ]
    },
    {
      "cell_type": "code",
      "metadata": {
        "colab": {
          "base_uri": "https://localhost:8080/",
          "height": 235
        },
        "id": "71HjfGaGvRll",
        "outputId": "591b4542-74d2-47fe-b852-52433cbb153d"
      },
      "source": [
        "df.head()"
      ],
      "execution_count": 19,
      "outputs": [
        {
          "output_type": "execute_result",
          "data": {
            "text/html": [
              "<div>\n",
              "<style scoped>\n",
              "    .dataframe tbody tr th:only-of-type {\n",
              "        vertical-align: middle;\n",
              "    }\n",
              "\n",
              "    .dataframe tbody tr th {\n",
              "        vertical-align: top;\n",
              "    }\n",
              "\n",
              "    .dataframe thead th {\n",
              "        text-align: right;\n",
              "    }\n",
              "</style>\n",
              "<table border=\"1\" class=\"dataframe\">\n",
              "  <thead>\n",
              "    <tr style=\"text-align: right;\">\n",
              "      <th></th>\n",
              "      <th>Open</th>\n",
              "      <th>High</th>\n",
              "      <th>Low</th>\n",
              "      <th>Close</th>\n",
              "      <th>Adj Close</th>\n",
              "      <th>Volume</th>\n",
              "    </tr>\n",
              "    <tr>\n",
              "      <th>Date</th>\n",
              "      <th></th>\n",
              "      <th></th>\n",
              "      <th></th>\n",
              "      <th></th>\n",
              "      <th></th>\n",
              "      <th></th>\n",
              "    </tr>\n",
              "  </thead>\n",
              "  <tbody>\n",
              "    <tr>\n",
              "      <th>2021-01-01</th>\n",
              "      <td>737.708374</td>\n",
              "      <td>749.201843</td>\n",
              "      <td>719.792236</td>\n",
              "      <td>730.367554</td>\n",
              "      <td>730.367554</td>\n",
              "      <td>13652004358</td>\n",
              "    </tr>\n",
              "    <tr>\n",
              "      <th>2021-01-02</th>\n",
              "      <td>730.402649</td>\n",
              "      <td>786.798462</td>\n",
              "      <td>718.109497</td>\n",
              "      <td>774.534973</td>\n",
              "      <td>774.534973</td>\n",
              "      <td>19740771179</td>\n",
              "    </tr>\n",
              "    <tr>\n",
              "      <th>2021-01-03</th>\n",
              "      <td>774.511841</td>\n",
              "      <td>1006.565002</td>\n",
              "      <td>771.561646</td>\n",
              "      <td>975.507690</td>\n",
              "      <td>975.507690</td>\n",
              "      <td>45200463368</td>\n",
              "    </tr>\n",
              "    <tr>\n",
              "      <th>2021-01-04</th>\n",
              "      <td>977.058838</td>\n",
              "      <td>1153.189209</td>\n",
              "      <td>912.305359</td>\n",
              "      <td>1040.233032</td>\n",
              "      <td>1040.233032</td>\n",
              "      <td>56945985763</td>\n",
              "    </tr>\n",
              "    <tr>\n",
              "      <th>2021-01-05</th>\n",
              "      <td>1041.498779</td>\n",
              "      <td>1129.371460</td>\n",
              "      <td>986.811279</td>\n",
              "      <td>1100.006104</td>\n",
              "      <td>1100.006104</td>\n",
              "      <td>41535932781</td>\n",
              "    </tr>\n",
              "  </tbody>\n",
              "</table>\n",
              "</div>"
            ],
            "text/plain": [
              "                   Open         High  ...    Adj Close       Volume\n",
              "Date                                  ...                          \n",
              "2021-01-01   737.708374   749.201843  ...   730.367554  13652004358\n",
              "2021-01-02   730.402649   786.798462  ...   774.534973  19740771179\n",
              "2021-01-03   774.511841  1006.565002  ...   975.507690  45200463368\n",
              "2021-01-04   977.058838  1153.189209  ...  1040.233032  56945985763\n",
              "2021-01-05  1041.498779  1129.371460  ...  1100.006104  41535932781\n",
              "\n",
              "[5 rows x 6 columns]"
            ]
          },
          "metadata": {
            "tags": []
          },
          "execution_count": 19
        }
      ]
    },
    {
      "cell_type": "code",
      "metadata": {
        "colab": {
          "base_uri": "https://localhost:8080/",
          "height": 235
        },
        "id": "gvAFG8ejvd6q",
        "outputId": "2e6acf8d-d82a-4000-e7a9-fdfa9e8f1974"
      },
      "source": [
        "df.tail()"
      ],
      "execution_count": 20,
      "outputs": [
        {
          "output_type": "execute_result",
          "data": {
            "text/html": [
              "<div>\n",
              "<style scoped>\n",
              "    .dataframe tbody tr th:only-of-type {\n",
              "        vertical-align: middle;\n",
              "    }\n",
              "\n",
              "    .dataframe tbody tr th {\n",
              "        vertical-align: top;\n",
              "    }\n",
              "\n",
              "    .dataframe thead th {\n",
              "        text-align: right;\n",
              "    }\n",
              "</style>\n",
              "<table border=\"1\" class=\"dataframe\">\n",
              "  <thead>\n",
              "    <tr style=\"text-align: right;\">\n",
              "      <th></th>\n",
              "      <th>Open</th>\n",
              "      <th>High</th>\n",
              "      <th>Low</th>\n",
              "      <th>Close</th>\n",
              "      <th>Adj Close</th>\n",
              "      <th>Volume</th>\n",
              "    </tr>\n",
              "    <tr>\n",
              "      <th>Date</th>\n",
              "      <th></th>\n",
              "      <th></th>\n",
              "      <th></th>\n",
              "      <th></th>\n",
              "      <th></th>\n",
              "      <th></th>\n",
              "    </tr>\n",
              "  </thead>\n",
              "  <tbody>\n",
              "    <tr>\n",
              "      <th>2021-05-28</th>\n",
              "      <td>2742.468994</td>\n",
              "      <td>2761.363281</td>\n",
              "      <td>2336.361328</td>\n",
              "      <td>2419.906250</td>\n",
              "      <td>2419.906250</td>\n",
              "      <td>39999114805</td>\n",
              "    </tr>\n",
              "    <tr>\n",
              "      <th>2021-05-29</th>\n",
              "      <td>2414.067139</td>\n",
              "      <td>2566.938477</td>\n",
              "      <td>2208.490967</td>\n",
              "      <td>2279.514160</td>\n",
              "      <td>2279.514160</td>\n",
              "      <td>33773720220</td>\n",
              "    </tr>\n",
              "    <tr>\n",
              "      <th>2021-05-30</th>\n",
              "      <td>2278.288818</td>\n",
              "      <td>2472.187744</td>\n",
              "      <td>2188.834473</td>\n",
              "      <td>2390.305420</td>\n",
              "      <td>2390.305420</td>\n",
              "      <td>25876619428</td>\n",
              "    </tr>\n",
              "    <tr>\n",
              "      <th>2021-05-31</th>\n",
              "      <td>2387.198486</td>\n",
              "      <td>2715.854980</td>\n",
              "      <td>2279.505127</td>\n",
              "      <td>2714.945312</td>\n",
              "      <td>2714.945312</td>\n",
              "      <td>31007383150</td>\n",
              "    </tr>\n",
              "    <tr>\n",
              "      <th>2021-06-01</th>\n",
              "      <td>2707.560547</td>\n",
              "      <td>2739.737549</td>\n",
              "      <td>2531.160645</td>\n",
              "      <td>2633.518311</td>\n",
              "      <td>2633.518311</td>\n",
              "      <td>27363223090</td>\n",
              "    </tr>\n",
              "  </tbody>\n",
              "</table>\n",
              "</div>"
            ],
            "text/plain": [
              "                   Open         High  ...    Adj Close       Volume\n",
              "Date                                  ...                          \n",
              "2021-05-28  2742.468994  2761.363281  ...  2419.906250  39999114805\n",
              "2021-05-29  2414.067139  2566.938477  ...  2279.514160  33773720220\n",
              "2021-05-30  2278.288818  2472.187744  ...  2390.305420  25876619428\n",
              "2021-05-31  2387.198486  2715.854980  ...  2714.945312  31007383150\n",
              "2021-06-01  2707.560547  2739.737549  ...  2633.518311  27363223090\n",
              "\n",
              "[5 rows x 6 columns]"
            ]
          },
          "metadata": {
            "tags": []
          },
          "execution_count": 20
        }
      ]
    },
    {
      "cell_type": "code",
      "metadata": {
        "id": "3-bAAVw7vfT5"
      },
      "source": [
        "series = df['Close'].values.reshape(-1, 1)"
      ],
      "execution_count": 21,
      "outputs": []
    },
    {
      "cell_type": "code",
      "metadata": {
        "id": "BTPbKH3Ovhcq"
      },
      "source": [
        "scaler = StandardScaler()\n",
        "scaler.fit(series[:len(series) // 2])\n",
        "series = scaler.transform(series).flatten()"
      ],
      "execution_count": 22,
      "outputs": []
    },
    {
      "cell_type": "markdown",
      "metadata": {
        "id": "JE0Y7_TNwQZM"
      },
      "source": [
        "# Plot it"
      ]
    },
    {
      "cell_type": "code",
      "metadata": {
        "colab": {
          "base_uri": "https://localhost:8080/",
          "height": 265
        },
        "id": "gSm1sYKqvjBy",
        "outputId": "234ef115-783d-4d69-ca15-217eb546934c"
      },
      "source": [
        "plt.plot(series)\n",
        "plt.show()"
      ],
      "execution_count": 23,
      "outputs": [
        {
          "output_type": "display_data",
          "data": {
            "image/png": "[encoded data removed]",
            "text/plain": [
              "<Figure size 432x288 with 1 Axes>"
            ]
          },
          "metadata": {
            "tags": [],
            "needs_background": "light"
          }
        }
      ]
    },
    {
      "cell_type": "code",
      "metadata": {
        "colab": {
          "base_uri": "https://localhost:8080/"
        },
        "id": "4yR4omfevlgA",
        "outputId": "b3309037-daa1-4314-852c-9737239f3832"
      },
      "source": [
        "T = 10\n",
        "D = 1\n",
        "X = []\n",
        "Y = []\n",
        "for t in range(len(series) - T):\n",
        "  x = series[t:t+T]\n",
        "  X.append(x)\n",
        "  y = series[t+T]\n",
        "  Y.append(y)\n",
        "\n",
        "X = np.array(X).reshape(-1, T)\n",
        "Y = np.array(Y)\n",
        "N = len(X)\n",
        "print(\"X.shape\", X.shape, \"Y.shape\", Y.shape)"
      ],
      "execution_count": 24,
      "outputs": [
        {
          "output_type": "stream",
          "text": [
            "X.shape (142, 10) Y.shape (142,)\n"
          ],
          "name": "stdout"
        }
      ]
    },
    {
      "cell_type": "code",
      "metadata": {
        "id": "R0Xn-uYivn2y"
      },
      "source": [
        "class BaselineModel:\n",
        "  def predict(self, X):\n",
        "    return X[:,-1]"
      ],
      "execution_count": 25,
      "outputs": []
    },
    {
      "cell_type": "code",
      "metadata": {
        "id": "4puG0kkYvsId"
      },
      "source": [
        "Xtrain, Ytrain = X[:-N//2], Y[:-N//2]\n",
        "Xtest, Ytest = X[-N//2:], Y[-N//2:]"
      ],
      "execution_count": 26,
      "outputs": []
    },
    {
      "cell_type": "code",
      "metadata": {
        "id": "CwtUlJiOvtc9"
      },
      "source": [
        "model = BaselineModel()\n",
        "Ptrain = model.predict(Xtrain)\n",
        "Ptest = model.predict(Xtest)"
      ],
      "execution_count": 27,
      "outputs": []
    },
    {
      "cell_type": "code",
      "metadata": {
        "id": "P3WmAKnavu6n"
      },
      "source": [
        "Ytrain2 = scaler.inverse_transform(Ytrain.reshape(-1, 1)).flatten()\n",
        "Ytest2 = scaler.inverse_transform(Ytest.reshape(-1, 1)).flatten()\n",
        "Ptrain2 = scaler.inverse_transform(Ptrain.reshape(-1, 1)).flatten()\n",
        "Ptest2 = scaler.inverse_transform(Ptest.reshape(-1, 1)).flatten()"
      ],
      "execution_count": 28,
      "outputs": []
    },
    {
      "cell_type": "code",
      "metadata": {
        "colab": {
          "base_uri": "https://localhost:8080/"
        },
        "id": "eerVVANPvwd1",
        "outputId": "9cbe8dc5-e91b-4361-d175-4c609171c1c8"
      },
      "source": [
        "print(\"baseline train mae:\", mae(Ytrain2, Ptrain2))\n",
        "print(\"baseline test mae:\", mae(Ytest2, Ptest2))"
      ],
      "execution_count": 29,
      "outputs": [
        {
          "output_type": "stream",
          "text": [
            "baseline train mae: 68.00797927211708\n",
            "baseline test mae: 146.09300726232394\n"
          ],
          "name": "stdout"
        }
      ]
    },
    {
      "cell_type": "code",
      "metadata": {
        "colab": {
          "base_uri": "https://localhost:8080/",
          "height": 281
        },
        "id": "eWCsf91qvyJd",
        "outputId": "4435a1ca-8bb0-4494-89cf-bf78e129954b"
      },
      "source": [
        "plt.plot(Ytest, label='target')\n",
        "plt.plot(Ptest, label='prediction')\n",
        "plt.legend()\n",
        "plt.title(\"Wrong forecast\")\n",
        "plt.show()"
      ],
      "execution_count": 30,
      "outputs": [
        {
          "output_type": "display_data",
          "data": {
            "image/png": "[encoded data removed]",
            "text/plain": [
              "<Figure size 432x288 with 1 Axes>"
            ]
          },
          "metadata": {
            "tags": [],
            "needs_background": "light"
          }
        }
      ]
    },
    {
      "cell_type": "code",
      "metadata": {
        "colab": {
          "base_uri": "https://localhost:8080/",
          "height": 281
        },
        "id": "VAUNE1ntvz0M",
        "outputId": "8822fbf9-ad2a-48b6-b767-062157159d84"
      },
      "source": [
        "plt.plot(Ytest[0:100], label='target')\n",
        "plt.plot(Ptest[0:100], label='prediction')\n",
        "plt.legend()\n",
        "plt.title(\"Wrong forecast zoom\")\n",
        "plt.show()"
      ],
      "execution_count": 31,
      "outputs": [
        {
          "output_type": "display_data",
          "data": {
            "image/png": "[encoded data removed]",
            "text/plain": [
              "<Figure size 432x288 with 1 Axes>"
            ]
          },
          "metadata": {
            "tags": [],
            "needs_background": "light"
          }
        }
      ]
    },
    {
      "cell_type": "code",
      "metadata": {
        "colab": {
          "base_uri": "https://localhost:8080/",
          "height": 281
        },
        "id": "7e_eG0A7v184",
        "outputId": "2cda1340-02e8-41ce-db29-0b59082075c1"
      },
      "source": [
        "forecast = []\n",
        "input_ = Xtest[0]\n",
        "while len(forecast) < len(Ytest):\n",
        "  f = model.predict(input_.reshape(1, T))[0]\n",
        "  forecast.append(f)\n",
        "\n",
        "  # make a new input with the latest forecast\n",
        "  input_ = np.roll(input_, -1)\n",
        "  input_[-1] = f\n",
        "plt.plot(Ytest, label='target')\n",
        "plt.plot(forecast, label='prediction')\n",
        "plt.legend()\n",
        "plt.title(\"Right forecast\")\n",
        "plt.show()"
      ],
      "execution_count": 32,
      "outputs": [
        {
          "output_type": "display_data",
          "data": {
            "image/png": "[encoded data removed]",
            "text/plain": [
              "<Figure size 432x288 with 1 Axes>"
            ]
          },
          "metadata": {
            "tags": [],
            "needs_background": "light"
          }
        }
      ]
    },
    {
      "cell_type": "code",
      "metadata": {
        "id": "ByvmjRsYv4Ju"
      },
      "source": [
        ""
      ],
      "execution_count": null,
      "outputs": []
    }
  ]
}